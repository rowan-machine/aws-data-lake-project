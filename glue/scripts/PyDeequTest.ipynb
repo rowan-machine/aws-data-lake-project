{
 "cells": [
  {
   "cell_type": "code",
   "execution_count": null,
   "id": "fd8232fa-9495-4cac-8f1f-c7d727c2e1ca",
   "metadata": {},
   "outputs": [],
   "source": [
    "# Install Deequ\n",
    "subprocess.check_call([sys.executable, \"-m\", \"pip\", \"install\", \"--target=/tmp\", \"pydeequ\"])\n",
    "sys.path.insert(0, '/tmp')"
   ]
  },
  {
   "cell_type": "code",
   "execution_count": null,
   "id": "4559d6a7-7d49-458f-aaf1-1346c489d2f4",
   "metadata": {},
   "outputs": [],
   "source": [
    "from pydeequ.checks import *\n",
    "from pydeequ.verification import *\n",
    "\n",
    "# Create a simple DataFrame\n",
    "data = [(\"Alice\", 34), (\"Bob\", 45), (\"Charlie\", 29)]\n",
    "columns = [\"name\", \"age\"]\n",
    "df = spark.createDataFrame(data, columns)\n",
    "\n",
    "# Perform data quality checks\n",
    "check = Check(spark, CheckLevel.Warning, \"example-check\")\n",
    "check = check.hasSize(lambda x: x >= 3) \\\n",
    "             .hasMin(\"age\", lambda x: x >= 0) \\\n",
    "             .isComplete(\"name\") \\\n",
    "             .isUnique(\"name\")\n",
    "\n",
    "# Run the checks\n",
    "verification_result = VerificationSuite(spark) \\\n",
    "    .onData(df) \\\n",
    "    .addCheck(check) \\\n",
    "    .run()\n",
    "\n",
    "verification_result_df = VerificationResult.checkResultsAsDataFrame(spark, verification_result)\n",
    "verification_result_df.show()\n"
   ]
  }
 ],
 "metadata": {
  "kernelspec": {
   "display_name": "Python 3 (ipykernel)",
   "language": "python",
   "name": "python3"
  },
  "language_info": {
   "codemirror_mode": {
    "name": "ipython",
    "version": 3
   },
   "file_extension": ".py",
   "mimetype": "text/x-python",
   "name": "python",
   "nbconvert_exporter": "python",
   "pygments_lexer": "ipython3",
   "version": "3.10.6"
  }
 },
 "nbformat": 4,
 "nbformat_minor": 5
}
