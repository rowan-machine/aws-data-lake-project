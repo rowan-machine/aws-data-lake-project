{
 "cells": [
  {
   "cell_type": "code",
   "execution_count": 1,
   "id": "4cfe1418-9084-4bae-aff0-c63074522d9e",
   "metadata": {},
   "outputs": [
    {
     "name": "stdout",
     "output_type": "stream",
     "text": [
      "['/opt/glue/scripts/notebooks/Passed', '/opt/glue/aws_glue_libs-4.0.0-py3.8.egg', '/usr/lib/python310.zip', '/usr/lib/python3.10', '/usr/lib/python3.10/lib-dynload', '', '/usr/local/lib/python3.10/dist-packages', '/usr/lib/python3/dist-packages', '/etl/Test']\n"
     ]
    }
   ],
   "source": [
    "import sys\n",
    "import os\n",
    "\n",
    "# Add the directory containing main_script.py to the system path\n",
    "sys.path.append('/etl/Test')\n",
    "\n",
    "# Print the system path to verify\n",
    "print(sys.path)\n"
   ]
  },
  {
   "cell_type": "code",
   "execution_count": 18,
   "id": "70e14e74-0910-45a1-be27-be9fc0f822f6",
   "metadata": {},
   "outputs": [
    {
     "name": "stdout",
     "output_type": "stream",
     "text": [
      "/opt/glue/scripts/notebooks\n"
     ]
    }
   ],
   "source": [
    "import os\n",
    "print(os.getcwd())\n"
   ]
  },
  {
   "cell_type": "code",
   "execution_count": 19,
   "id": "668e9d62-ac2a-4a91-8f7e-785a2eef5130",
   "metadata": {},
   "outputs": [
    {
     "name": "stdout",
     "output_type": "stream",
     "text": [
      "Absolute path: /opt/glue/scripts/etl/Test\n",
      "Path exists: True\n",
      "Files in the directory:\n",
      "['.ipynb_checkpoints', 'main_script.py', 'staging.py', 'utils.py', '__pycache__']\n"
     ]
    }
   ],
   "source": [
    "import os\n",
    "\n",
    "path = os.path.abspath(\"../etl/Test\")\n",
    "print(f\"Absolute path: {path}\")\n",
    "print(f\"Path exists: {os.path.exists(path)}\")\n",
    "\n",
    "if os.path.exists(path):\n",
    "    print(\"Files in the directory:\")\n",
    "    print(os.listdir(path))\n",
    "else:\n",
    "    print(\"The specified path does not exist.\")\n"
   ]
  },
  {
   "cell_type": "code",
   "execution_count": 6,
   "id": "9305c454-302d-4f61-91ed-19fcdcb6732a",
   "metadata": {},
   "outputs": [
    {
     "name": "stdout",
     "output_type": "stream",
     "text": [
      "Step 1: /opt/glue/scripts/notebooks - Exists: True\n",
      "Step 2: /opt/glue/scripts - Exists: True\n",
      "Step 3: /opt/glue/scripts/etl - Exists: True\n",
      "Step 4: /opt/glue/scripts/etl/Test - Exists: True\n"
     ]
    }
   ],
   "source": [
    "path1 = os.path.abspath(\"..\")\n",
    "print(f\"Step 1: {path1} - Exists: {os.path.exists(path1)}\")\n",
    "\n",
    "path1 = os.path.abspath(\"../..\")\n",
    "print(f\"Step 2: {path1} - Exists: {os.path.exists(path1)}\")\n",
    "\n",
    "path2 = os.path.abspath(\"../../etl\")\n",
    "print(f\"Step 3: {path2} - Exists: {os.path.exists(path2)}\")\n",
    "\n",
    "path3 = os.path.abspath(\"../../etl/Test\")\n",
    "print(f\"Step 4: {path3} - Exists: {os.path.exists(path3)}\")\n"
   ]
  },
  {
   "cell_type": "code",
   "execution_count": 3,
   "id": "e18db3b6-618c-4fe8-9ffc-729b06dca108",
   "metadata": {},
   "outputs": [
    {
     "name": "stdout",
     "output_type": "stream",
     "text": [
      "Hadoop AWS JAR path exists: True\n",
      "AWS SDK JAR path exists: True\n"
     ]
    }
   ],
   "source": [
    "import os\n",
    "\n",
    "hadoop_aws_jar_path = \"/opt/glue/jars/hadoop-aws-3.2.0.jar\"\n",
    "aws_sdk_jar_path = \"/opt/glue/jars/aws-java-sdk-bundle-1.11.375.jar\"\n",
    "\n",
    "print(f\"Hadoop AWS JAR path exists: {os.path.exists(hadoop_aws_jar_path)}\")\n",
    "print(f\"AWS SDK JAR path exists: {os.path.exists(aws_sdk_jar_path)}\")\n"
   ]
  },
  {
   "cell_type": "code",
   "execution_count": 5,
   "id": "87ff45cf-065d-4444-8d1e-b41e87fdbeb6",
   "metadata": {},
   "outputs": [
    {
     "name": "stderr",
     "output_type": "stream",
     "text": [
      "INFO:utils:Checking JAR paths: /opt/glue/jars/hadoop-aws-3.2.0.jar, /opt/glue/jars/aws-java-sdk-bundle-1.11.375.jar\n",
      "24/06/28 22:03:03 WARN NativeCodeLoader: Unable to load native-hadoop library for your platform... using builtin-java classes where applicable\n",
      "Setting default log level to \"WARN\".\n",
      "To adjust logging level use sc.setLogLevel(newLevel). For SparkR, use setLogLevel(newLevel).\n",
      "24/06/28 22:03:05 WARN Utils: Service 'SparkUI' could not bind on port 4040. Attempting port 4041.\n",
      "24/06/28 22:03:05 WARN Utils: Service 'SparkUI' could not bind on port 4041. Attempting port 4042.\n",
      "24/06/28 22:03:05 WARN Utils: Service 'SparkUI' could not bind on port 4042. Attempting port 4043.\n",
      "24/06/28 22:03:05 WARN Utils: Service 'SparkUI' could not bind on port 4043. Attempting port 4044.\n",
      "24/06/28 22:03:05 WARN Utils: Service 'SparkUI' could not bind on port 4044. Attempting port 4045.\n",
      "INFO:utils:Spark session created successfully\n",
      "INFO:utils:Spark session initialized successfully\n",
      "INFO:main_script:Starting the main function\n",
      "INFO:main_script:Creating Spark session\n",
      "INFO:utils:Checking JAR paths: /opt/glue/jars/hadoop-aws-3.2.0.jar, /opt/glue/jars/aws-java-sdk-bundle-1.11.375.jar\n",
      "INFO:utils:Spark session created successfully\n",
      "INFO:main_script:Spark session created successfully\n",
      "INFO:main_script:Starting data staging\n",
      "INFO:staging:Staging data from s3a://ecommerce-data-lake-us-east-1-dev/01_raw/ to s3a://ecommerce-data-lake-us-east-1-dev/02_staging/ for table orders\n",
      "INFO:staging:Data staging logic executed successfully\n",
      "INFO:main_script:Data staging completed successfully\n"
     ]
    }
   ],
   "source": [
    "import sys\n",
    "import os\n",
    "\n",
    "# Add the directory containing main_script.py to the system path\n",
    "sys.path.append(os.path.abspath(\"../../etl/Test\"))\n",
    "\n",
    "# Now you can import the script\n",
    "import main_script\n",
    "\n",
    "# Run the main function from the script\n",
    "main_script.main()\n"
   ]
  },
  {
   "cell_type": "code",
   "execution_count": null,
   "id": "0490b5e4-c0d3-4192-bebb-7cb9a8f596fc",
   "metadata": {},
   "outputs": [],
   "source": []
  }
 ],
 "metadata": {
  "kernelspec": {
   "display_name": "Python 3 (ipykernel)",
   "language": "python",
   "name": "python3"
  },
  "language_info": {
   "codemirror_mode": {
    "name": "ipython",
    "version": 3
   },
   "file_extension": ".py",
   "mimetype": "text/x-python",
   "name": "python",
   "nbconvert_exporter": "python",
   "pygments_lexer": "ipython3",
   "version": "3.10.6"
  }
 },
 "nbformat": 4,
 "nbformat_minor": 5
}
