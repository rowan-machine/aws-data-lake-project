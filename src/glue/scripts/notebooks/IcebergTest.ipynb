{
 "cells": [
  {
   "cell_type": "code",
   "execution_count": null,
   "id": "6b034f1a-ec69-4604-93ed-2e561801efab",
   "metadata": {},
   "outputs": [],
   "source": [
    "# Create Iceberg table\n",
    "spark.sql(\"\"\"\n",
    "CREATE TABLE IF NOT EXISTS spark_catalog.default.iceberg_table (\n",
    "    id INT,\n",
    "    data STRING\n",
    ") USING iceberg\n",
    "\"\"\")\n",
    "\n",
    "# Insert data into the Iceberg table\n",
    "spark.sql(\"INSERT INTO spark_catalog.default.iceberg_table VALUES (1, 'a'), (2, 'b'), (3, 'c')\")\n",
    "\n",
    "# Query the Iceberg table\n",
    "df = spark.sql(\"SELECT * FROM spark_catalog.default.iceberg_table\")\n",
    "df.show()\n"
   ]
  }
 ],
 "metadata": {
  "kernelspec": {
   "display_name": "Python 3 (ipykernel)",
   "language": "python",
   "name": "python3"
  },
  "language_info": {
   "codemirror_mode": {
    "name": "ipython",
    "version": 3
   },
   "file_extension": ".py",
   "mimetype": "text/x-python",
   "name": "python",
   "nbconvert_exporter": "python",
   "pygments_lexer": "ipython3",
   "version": "3.10.6"
  }
 },
 "nbformat": 4,
 "nbformat_minor": 5
}
