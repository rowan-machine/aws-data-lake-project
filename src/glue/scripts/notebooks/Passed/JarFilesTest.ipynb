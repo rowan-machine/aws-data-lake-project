{
 "cells": [
  {
   "cell_type": "code",
   "execution_count": 1,
   "id": "ec48529a-c257-4fa8-9591-9230a7aa4b47",
   "metadata": {},
   "outputs": [
    {
     "name": "stdout",
     "output_type": "stream",
     "text": [
      "Hadoop AWS JAR path exists: True\n",
      "AWS SDK JAR path exists: True\n"
     ]
    }
   ],
   "source": [
    "import os\n",
    "\n",
    "hadoop_aws_jar_path = \"/opt/glue/jars/hadoop-aws-3.2.0.jar\"\n",
    "aws_sdk_jar_path = \"/opt/glue/jars/aws-java-sdk-bundle-1.11.375.jar\"\n",
    "\n",
    "print(f\"Hadoop AWS JAR path exists: {os.path.exists(hadoop_aws_jar_path)}\")\n",
    "print(f\"AWS SDK JAR path exists: {os.path.exists(aws_sdk_jar_path)}\")\n"
   ]
  },
  {
   "cell_type": "code",
   "execution_count": null,
   "id": "684c391a-59af-461e-b8a5-9192a32521b6",
   "metadata": {},
   "outputs": [],
   "source": []
  }
 ],
 "metadata": {
  "kernelspec": {
   "display_name": "Python 3 (ipykernel)",
   "language": "python",
   "name": "python3"
  },
  "language_info": {
   "codemirror_mode": {
    "name": "ipython",
    "version": 3
   },
   "file_extension": ".py",
   "mimetype": "text/x-python",
   "name": "python",
   "nbconvert_exporter": "python",
   "pygments_lexer": "ipython3",
   "version": "3.10.6"
  }
 },
 "nbformat": 4,
 "nbformat_minor": 5
}
