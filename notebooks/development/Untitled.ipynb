{
 "cells": [
  {
   "cell_type": "code",
   "execution_count": 1,
   "id": "59403f3e-fee2-4c86-9b63-2261a87d10bf",
   "metadata": {},
   "outputs": [
    {
     "name": "stderr",
     "output_type": "stream",
     "text": [
      "24/06/25 20:42:07 WARN NativeCodeLoader: Unable to load native-hadoop library for your platform... using builtin-java classes where applicable\n",
      "Setting default log level to \"WARN\".\n",
      "To adjust logging level use sc.setLogLevel(newLevel). For SparkR, use setLogLevel(newLevel).\n",
      "24/06/25 20:42:10 WARN SparkSession: Cannot use org.apache.iceberg.spark.extensions.IcebergSparkSessionExtensions to configure session extensions.\n",
      "java.lang.ClassNotFoundException: org.apache.iceberg.spark.extensions.IcebergSparkSessionExtensions\n",
      "\tat java.base/java.net.URLClassLoader.findClass(Unknown Source)\n",
      "\tat java.base/java.lang.ClassLoader.loadClass(Unknown Source)\n",
      "\tat java.base/java.lang.ClassLoader.loadClass(Unknown Source)\n",
      "\tat java.base/java.lang.Class.forName0(Native Method)\n",
      "\tat java.base/java.lang.Class.forName(Unknown Source)\n",
      "\tat org.apache.spark.util.Utils$.classForName(Utils.scala:225)\n",
      "\tat org.apache.spark.sql.SparkSession$.$anonfun$applyExtensions$1(SparkSession.scala:1294)\n",
      "\tat org.apache.spark.sql.SparkSession$.$anonfun$applyExtensions$1$adapted(SparkSession.scala:1292)\n",
      "\tat scala.collection.mutable.ResizableArray.foreach(ResizableArray.scala:62)\n",
      "\tat scala.collection.mutable.ResizableArray.foreach$(ResizableArray.scala:55)\n",
      "\tat scala.collection.mutable.ArrayBuffer.foreach(ArrayBuffer.scala:49)\n",
      "\tat org.apache.spark.sql.SparkSession$.org$apache$spark$sql$SparkSession$$applyExtensions(SparkSession.scala:1292)\n",
      "\tat org.apache.spark.sql.SparkSession.<init>(SparkSession.scala:107)\n",
      "\tat java.base/jdk.internal.reflect.NativeConstructorAccessorImpl.newInstance0(Native Method)\n",
      "\tat java.base/jdk.internal.reflect.NativeConstructorAccessorImpl.newInstance(Unknown Source)\n",
      "\tat java.base/jdk.internal.reflect.DelegatingConstructorAccessorImpl.newInstance(Unknown Source)\n",
      "\tat java.base/java.lang.reflect.Constructor.newInstanceWithCaller(Unknown Source)\n",
      "\tat java.base/java.lang.reflect.Constructor.newInstance(Unknown Source)\n",
      "\tat py4j.reflection.MethodInvoker.invoke(MethodInvoker.java:247)\n",
      "\tat py4j.reflection.ReflectionEngine.invoke(ReflectionEngine.java:374)\n",
      "\tat py4j.Gateway.invoke(Gateway.java:238)\n",
      "\tat py4j.commands.ConstructorCommand.invokeConstructor(ConstructorCommand.java:80)\n",
      "\tat py4j.commands.ConstructorCommand.execute(ConstructorCommand.java:69)\n",
      "\tat py4j.ClientServerConnection.waitForCommands(ClientServerConnection.java:182)\n",
      "\tat py4j.ClientServerConnection.run(ClientServerConnection.java:106)\n",
      "\tat java.base/java.lang.Thread.run(Unknown Source)\n",
      "/usr/local/lib/python3.10/dist-packages/pyspark/sql/context.py:113: FutureWarning: Deprecated in 3.0.0. Use SparkSession.builder.getOrCreate() instead.\n",
      "  warnings.warn(\n"
     ]
    },
    {
     "ename": "TypeError",
     "evalue": "'JavaPackage' object is not callable",
     "output_type": "error",
     "traceback": [
      "\u001b[0;31m---------------------------------------------------------------------------\u001b[0m",
      "\u001b[0;31mTypeError\u001b[0m                                 Traceback (most recent call last)",
      "Cell \u001b[0;32mIn[1], line 77\u001b[0m\n\u001b[1;32m     63\u001b[0m \u001b[38;5;66;03m# Initialize Spark session with Iceberg configurations\u001b[39;00m\n\u001b[1;32m     64\u001b[0m spark \u001b[38;5;241m=\u001b[39m SparkSession\u001b[38;5;241m.\u001b[39mbuilder \\\n\u001b[1;32m     65\u001b[0m     \u001b[38;5;241m.\u001b[39mconfig(\u001b[38;5;124m\"\u001b[39m\u001b[38;5;124mspark.jars\u001b[39m\u001b[38;5;124m\"\u001b[39m, iceberg_jar_path) \\\n\u001b[1;32m     66\u001b[0m     \u001b[38;5;241m.\u001b[39mconfig(\u001b[38;5;124m\"\u001b[39m\u001b[38;5;124mspark.sql.extensions\u001b[39m\u001b[38;5;124m\"\u001b[39m, \u001b[38;5;124m\"\u001b[39m\u001b[38;5;124morg.apache.iceberg.spark.extensions.IcebergSparkSessionExtensions\u001b[39m\u001b[38;5;124m\"\u001b[39m) \\\n\u001b[0;32m   (...)\u001b[0m\n\u001b[1;32m     74\u001b[0m     \u001b[38;5;241m.\u001b[39mconfig(\u001b[38;5;124m\"\u001b[39m\u001b[38;5;124mspark.sql.catalog.curated_catalog.warehouse\u001b[39m\u001b[38;5;124m\"\u001b[39m, \u001b[38;5;124m\"\u001b[39m\u001b[38;5;124ms3://ecommerce-data-lake-us-east-1-dev/06_curated/\u001b[39m\u001b[38;5;124m\"\u001b[39m) \\\n\u001b[1;32m     75\u001b[0m     \u001b[38;5;241m.\u001b[39mgetOrCreate()\n\u001b[0;32m---> 77\u001b[0m glueContext \u001b[38;5;241m=\u001b[39m \u001b[43mGlueContext\u001b[49m\u001b[43m(\u001b[49m\u001b[43mSparkContext\u001b[49m\u001b[38;5;241;43m.\u001b[39;49m\u001b[43mgetOrCreate\u001b[49m\u001b[43m(\u001b[49m\u001b[43m)\u001b[49m\u001b[43m)\u001b[49m\n\u001b[1;32m     78\u001b[0m \u001b[38;5;28mprint\u001b[39m(args)\n",
      "File \u001b[0;32m/opt/glue/aws_glue_libs-4.0.0-py3.8.egg/awsglue/context.py:59\u001b[0m, in \u001b[0;36mGlueContext.__init__\u001b[0;34m(self, sparkContext, **options)\u001b[0m\n\u001b[1;32m     57\u001b[0m \u001b[38;5;28msuper\u001b[39m(GlueContext, \u001b[38;5;28mself\u001b[39m)\u001b[38;5;241m.\u001b[39m\u001b[38;5;21m__init__\u001b[39m(sparkContext)\n\u001b[1;32m     58\u001b[0m register(sparkContext)\n\u001b[0;32m---> 59\u001b[0m \u001b[38;5;28mself\u001b[39m\u001b[38;5;241m.\u001b[39m_glue_scala_context \u001b[38;5;241m=\u001b[39m \u001b[38;5;28;43mself\u001b[39;49m\u001b[38;5;241;43m.\u001b[39;49m\u001b[43m_get_glue_scala_context\u001b[49m\u001b[43m(\u001b[49m\u001b[38;5;241;43m*\u001b[39;49m\u001b[38;5;241;43m*\u001b[39;49m\u001b[43moptions\u001b[49m\u001b[43m)\u001b[49m\n\u001b[1;32m     60\u001b[0m \u001b[38;5;28mself\u001b[39m\u001b[38;5;241m.\u001b[39mcreate_dynamic_frame \u001b[38;5;241m=\u001b[39m DynamicFrameReader(\u001b[38;5;28mself\u001b[39m)\n\u001b[1;32m     61\u001b[0m \u001b[38;5;28mself\u001b[39m\u001b[38;5;241m.\u001b[39mcreate_data_frame \u001b[38;5;241m=\u001b[39m DataFrameReader(\u001b[38;5;28mself\u001b[39m)\n",
      "File \u001b[0;32m/opt/glue/aws_glue_libs-4.0.0-py3.8.egg/awsglue/context.py:82\u001b[0m, in \u001b[0;36mGlueContext._get_glue_scala_context\u001b[0;34m(self, **options)\u001b[0m\n\u001b[1;32m     79\u001b[0m     min_partitions \u001b[38;5;241m=\u001b[39m target_partitions \u001b[38;5;241m=\u001b[39m options\u001b[38;5;241m.\u001b[39mget(\u001b[38;5;124m'\u001b[39m\u001b[38;5;124mtargetPartitions\u001b[39m\u001b[38;5;124m'\u001b[39m)\n\u001b[1;32m     81\u001b[0m \u001b[38;5;28;01mif\u001b[39;00m min_partitions \u001b[38;5;129;01mis\u001b[39;00m \u001b[38;5;28;01mNone\u001b[39;00m:\n\u001b[0;32m---> 82\u001b[0m     \u001b[38;5;28;01mreturn\u001b[39;00m \u001b[38;5;28;43mself\u001b[39;49m\u001b[38;5;241;43m.\u001b[39;49m\u001b[43m_jvm\u001b[49m\u001b[38;5;241;43m.\u001b[39;49m\u001b[43mGlueContext\u001b[49m\u001b[43m(\u001b[49m\u001b[38;5;28;43mself\u001b[39;49m\u001b[38;5;241;43m.\u001b[39;49m\u001b[43m_jsc\u001b[49m\u001b[38;5;241;43m.\u001b[39;49m\u001b[43msc\u001b[49m\u001b[43m(\u001b[49m\u001b[43m)\u001b[49m\u001b[43m)\u001b[49m\n\u001b[1;32m     83\u001b[0m \u001b[38;5;28;01melse\u001b[39;00m:\n\u001b[1;32m     84\u001b[0m     \u001b[38;5;28;01mreturn\u001b[39;00m \u001b[38;5;28mself\u001b[39m\u001b[38;5;241m.\u001b[39m_jvm\u001b[38;5;241m.\u001b[39mGlueContext(\u001b[38;5;28mself\u001b[39m\u001b[38;5;241m.\u001b[39m_jsc\u001b[38;5;241m.\u001b[39msc(), min_partitions, target_partitions)\n",
      "\u001b[0;31mTypeError\u001b[0m: 'JavaPackage' object is not callable"
     ]
    }
   ],
   "source": [
    "import sys\n",
    "import os\n",
    "from awsglue.context import GlueContext\n",
    "from awsglue.utils import getResolvedOptions\n",
    "from pyspark.context import SparkContext\n",
    "from pyspark.sql import SparkSession\n",
    "import subprocess\n",
    "\n",
    "# Define parameters in a dictionary\n",
    "parameters = {\n",
    "    'JOB_NAME': 'FullLoadAndCDCProcesserJob',\n",
    "    'RAW_S3_PATH': 's3://ecommerce-data-lake-us-east-1-dev/01_raw/',\n",
    "    'STAGING_S3_PATH': 's3://ecommerce-data-lake-us-east-1-dev/02_staging/',\n",
    "    'PREPROCESSED_S3_PATH': 's3://ecommerce-data-lake-us-east-1-dev/03_preprocessed/',\n",
    "    'MASTER_S3_PATH': 's3://ecommerce-data-lake-us-east-1-dev/04_master/',\n",
    "    'CURATED_S3_PATH': 's3://ecommerce-data-lake-us-east-1-dev/06_curated/',\n",
    "    'TABLE_NAME': 'orders',\n",
    "    'PROCESS_TYPE': 'full_load',\n",
    "    'SOURCE': 'netSuite'\n",
    "}\n",
    "\n",
    "# Mock function to simulate getResolvedOptions\n",
    "def get_resolved_options(args, keys):\n",
    "    return {key: parameters[key] for key in keys}\n",
    "\n",
    "# Mock sys.argv to simulate Glue job arguments\n",
    "sys.argv = [\n",
    "    '--JOB_NAME', parameters['JOB_NAME'],\n",
    "    '--RAW_S3_PATH', parameters['RAW_S3_PATH'],\n",
    "    '--STAGING_S3_PATH', parameters['STAGING_S3_PATH'],\n",
    "    '--PREPROCESSED_S3_PATH', parameters['PREPROCESSED_S3_PATH'],\n",
    "    '--MASTER_S3_PATH', parameters['MASTER_S3_PATH'],\n",
    "    '--CURATED_S3_PATH', parameters['CURATED_S3_PATH'],\n",
    "    '--TABLE_NAME', parameters['TABLE_NAME'],\n",
    "    '--PROCESS_TYPE', parameters['PROCESS_TYPE'],\n",
    "    '--SOURCE', parameters['SOURCE']\n",
    "]\n",
    "\n",
    "# Use the mock get_resolved_options function\n",
    "args = get_resolved_options(sys.argv, [\n",
    "    'JOB_NAME', \n",
    "    'RAW_S3_PATH', \n",
    "    'STAGING_S3_PATH', \n",
    "    'PREPROCESSED_S3_PATH', \n",
    "    'MASTER_S3_PATH',\n",
    "    'CURATED_S3_PATH', \n",
    "    'TABLE_NAME', \n",
    "    'PROCESS_TYPE',\n",
    "    'SOURCE'\n",
    "])\n",
    "\n",
    "# Set environment variables\n",
    "os.environ['SPARK_VERSION'] = '3.1'\n",
    "\n",
    "# Path to the Iceberg JAR file\n",
    "iceberg_jar_path = \"/opt/glue/jars/iceberg-spark3-runtime-0.12.0.jar\"\n",
    "\n",
    "# Path to the PyDeequ JAR file\n",
    "pydeequ_jar_path = \"/opt/glue/jars/deequ-glue-1.0-SNAPSHOT-jar-with-dependencies.jar\"\n",
    "\n",
    "# Initialize Spark session with Iceberg configurations\n",
    "spark = SparkSession.builder \\\n",
    "    .config(\"spark.jars\", iceberg_jar_path) \\\n",
    "    .config(\"spark.sql.extensions\", \"org.apache.iceberg.spark.extensions.IcebergSparkSessionExtensions\") \\\n",
    "    .config(\"spark.sql.catalog.spark_catalog\", \"org.apache.iceberg.spark.SparkSessionCatalog\") \\\n",
    "    .config(\"spark.sql.catalog.spark_catalog.type\", \"hive\") \\\n",
    "    .config(\"spark.sql.catalog.master_catalog\", \"org.apache.iceberg.spark.SparkCatalog\") \\\n",
    "    .config(\"spark.sql.catalog.master_catalog.type\", \"hadoop\") \\\n",
    "    .config(\"spark.sql.catalog.master_catalog.warehouse\", \"s3://ecommerce-data-lake-us-east-1-dev/04_master/\") \\\n",
    "    .config(\"spark.sql.catalog.curated_catalog\", \"org.apache.iceberg.spark.SparkCatalog\") \\\n",
    "    .config(\"spark.sql.catalog.curated_catalog.type\", \"hadoop\") \\\n",
    "    .config(\"spark.sql.catalog.curated_catalog.warehouse\", \"s3://ecommerce-data-lake-us-east-1-dev/06_curated/\") \\\n",
    "    .getOrCreate()\n",
    "\n",
    "glueContext = GlueContext(SparkContext.getOrCreate())\n",
    "print(args)\n"
   ]
  },
  {
   "cell_type": "code",
   "execution_count": 10,
   "id": "cfbd8a83-759a-45ca-b589-e5534516b6ef",
   "metadata": {},
   "outputs": [
    {
     "name": "stdout",
     "output_type": "stream",
     "text": [
      "Collecting pydeequ\n",
      "  Using cached pydeequ-1.3.0-py3-none-any.whl.metadata (9.5 kB)\n",
      "Collecting numpy>=1.14.1 (from pydeequ)\n",
      "  Using cached numpy-2.0.0-cp310-cp310-manylinux_2_17_x86_64.manylinux2014_x86_64.whl.metadata (60 kB)\n",
      "Collecting pandas>=0.23.0 (from pydeequ)\n",
      "  Using cached pandas-2.2.2-cp310-cp310-manylinux_2_17_x86_64.manylinux2014_x86_64.whl.metadata (19 kB)\n",
      "Collecting python-dateutil>=2.8.2 (from pandas>=0.23.0->pydeequ)\n",
      "  Using cached python_dateutil-2.9.0.post0-py2.py3-none-any.whl.metadata (8.4 kB)\n",
      "Collecting pytz>=2020.1 (from pandas>=0.23.0->pydeequ)\n",
      "  Using cached pytz-2024.1-py2.py3-none-any.whl.metadata (22 kB)\n",
      "Collecting tzdata>=2022.7 (from pandas>=0.23.0->pydeequ)\n",
      "  Using cached tzdata-2024.1-py2.py3-none-any.whl.metadata (1.4 kB)\n",
      "Collecting six>=1.5 (from python-dateutil>=2.8.2->pandas>=0.23.0->pydeequ)\n",
      "  Using cached six-1.16.0-py2.py3-none-any.whl.metadata (1.8 kB)\n",
      "Using cached pydeequ-1.3.0-py3-none-any.whl (37 kB)\n",
      "Using cached numpy-2.0.0-cp310-cp310-manylinux_2_17_x86_64.manylinux2014_x86_64.whl (19.3 MB)\n",
      "Using cached pandas-2.2.2-cp310-cp310-manylinux_2_17_x86_64.manylinux2014_x86_64.whl (13.0 MB)\n",
      "Using cached python_dateutil-2.9.0.post0-py2.py3-none-any.whl (229 kB)\n",
      "Using cached pytz-2024.1-py2.py3-none-any.whl (505 kB)\n",
      "Using cached tzdata-2024.1-py2.py3-none-any.whl (345 kB)\n",
      "Using cached six-1.16.0-py2.py3-none-any.whl (11 kB)\n",
      "Installing collected packages: pytz, tzdata, six, numpy, python-dateutil, pandas, pydeequ\n",
      "Successfully installed numpy-2.0.0 pandas-2.2.2 pydeequ-1.3.0 python-dateutil-2.9.0.post0 pytz-2024.1 six-1.16.0 tzdata-2024.1\n"
     ]
    },
    {
     "name": "stderr",
     "output_type": "stream",
     "text": [
      "\u001b[33mWARNING: Running pip as the 'root' user can result in broken permissions and conflicting behaviour with the system package manager, possibly rendering your system unusable.It is recommended to use a virtual environment instead: https://pip.pypa.io/warnings/venv. Use the --root-user-action option if you know what you are doing and want to suppress this warning.\u001b[0m\u001b[33m\n",
      "\u001b[0m"
     ]
    }
   ],
   "source": [
    "# Install Deequ\n",
    "subprocess.check_call([sys.executable, \"-m\", \"pip\", \"install\", \"--target=/tmp\", \"pydeequ\"])\n",
    "sys.path.insert(0, '/tmp')"
   ]
  },
  {
   "cell_type": "code",
   "execution_count": 11,
   "id": "a9831f25-a3a7-4fb9-bf3d-0a96b519df05",
   "metadata": {},
   "outputs": [],
   "source": [
    "from pydeequ.checks import Check, CheckLevel\n",
    "from pydeequ.verification import VerificationSuite"
   ]
  },
  {
   "cell_type": "code",
   "execution_count": 12,
   "id": "51d3fd03-9a26-40a2-9f25-34d95507ebe6",
   "metadata": {},
   "outputs": [
    {
     "ename": "ModuleNotFoundError",
     "evalue": "No module named 'awsglue'",
     "output_type": "error",
     "traceback": [
      "\u001b[0;31m---------------------------------------------------------------------------\u001b[0m",
      "\u001b[0;31mModuleNotFoundError\u001b[0m                       Traceback (most recent call last)",
      "Cell \u001b[0;32mIn[12], line 1\u001b[0m\n\u001b[0;32m----> 1\u001b[0m \u001b[38;5;28;01mfrom\u001b[39;00m \u001b[38;5;21;01mawsglue\u001b[39;00m\u001b[38;5;21;01m.\u001b[39;00m\u001b[38;5;21;01mtransforms\u001b[39;00m \u001b[38;5;28;01mimport\u001b[39;00m \u001b[38;5;241m*\u001b[39m\n\u001b[1;32m      2\u001b[0m \u001b[38;5;28;01mfrom\u001b[39;00m \u001b[38;5;21;01mawsglue\u001b[39;00m\u001b[38;5;21;01m.\u001b[39;00m\u001b[38;5;21;01mutils\u001b[39;00m \u001b[38;5;28;01mimport\u001b[39;00m getResolvedOptions\n\u001b[1;32m      3\u001b[0m \u001b[38;5;28;01mfrom\u001b[39;00m \u001b[38;5;21;01mpyspark\u001b[39;00m\u001b[38;5;21;01m.\u001b[39;00m\u001b[38;5;21;01mcontext\u001b[39;00m \u001b[38;5;28;01mimport\u001b[39;00m SparkContext\n",
      "\u001b[0;31mModuleNotFoundError\u001b[0m: No module named 'awsglue'"
     ]
    }
   ],
   "source": [
    "from awsglue.transforms import *\n",
    "from awsglue.utils import getResolvedOptions\n",
    "from pyspark.context import SparkContext\n",
    "from awsglue.context import GlueContext\n",
    "from awsglue.job import Job\n",
    "from pyspark.sql import SparkSession\n",
    "from pyspark.sql.functions import col, lit, current_date, expr, when\n",
    "from pyspark.sql.window import Window\n",
    "import pyspark.sql.functions as F"
   ]
  },
  {
   "cell_type": "code",
   "execution_count": null,
   "id": "7bf969fc-69d1-4b86-b75d-3774795770cd",
   "metadata": {},
   "outputs": [],
   "source": []
  }
 ],
 "metadata": {
  "kernelspec": {
   "display_name": "Python 3 (ipykernel)",
   "language": "python",
   "name": "python3"
  },
  "language_info": {
   "codemirror_mode": {
    "name": "ipython",
    "version": 3
   },
   "file_extension": ".py",
   "mimetype": "text/x-python",
   "name": "python",
   "nbconvert_exporter": "python",
   "pygments_lexer": "ipython3",
   "version": "3.10.6"
  }
 },
 "nbformat": 4,
 "nbformat_minor": 5
}
